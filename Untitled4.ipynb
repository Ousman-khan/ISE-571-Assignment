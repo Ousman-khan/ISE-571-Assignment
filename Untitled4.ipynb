{
  "nbformat": 4,
  "nbformat_minor": 0,
  "metadata": {
    "colab": {
      "provenance": [],
      "authorship_tag": "ABX9TyNFR7aPlK3wEURQYF9xVQrF",
      "include_colab_link": true
    },
    "kernelspec": {
      "name": "python3",
      "display_name": "Python 3"
    },
    "language_info": {
      "name": "python"
    }
  },
  "cells": [
    {
      "cell_type": "markdown",
      "metadata": {
        "id": "view-in-github",
        "colab_type": "text"
      },
      "source": [
        "<a href=\"https://colab.research.google.com/github/Ousman-khan/ISE-571-Assignment/blob/main/Untitled4.ipynb\" target=\"_parent\"><img src=\"https://colab.research.google.com/assets/colab-badge.svg\" alt=\"Open In Colab\"/></a>"
      ]
    },
    {
      "cell_type": "code",
      "execution_count": 2,
      "metadata": {
        "colab": {
          "base_uri": "https://localhost:8080/"
        },
        "id": "RbSmQfJx2xGo",
        "outputId": "96968a37-b7fa-4b96-fd2c-a8fee1321b25"
      },
      "outputs": [
        {
          "output_type": "stream",
          "name": "stdout",
          "text": [
            "Collecting pyswarms\n",
            "  Downloading pyswarms-1.3.0-py2.py3-none-any.whl.metadata (33 kB)\n",
            "Requirement already satisfied: scipy in /usr/local/lib/python3.11/dist-packages (from pyswarms) (1.14.1)\n",
            "Requirement already satisfied: numpy in /usr/local/lib/python3.11/dist-packages (from pyswarms) (2.0.2)\n",
            "Requirement already satisfied: matplotlib>=1.3.1 in /usr/local/lib/python3.11/dist-packages (from pyswarms) (3.10.0)\n",
            "Requirement already satisfied: attrs in /usr/local/lib/python3.11/dist-packages (from pyswarms) (25.3.0)\n",
            "Requirement already satisfied: tqdm in /usr/local/lib/python3.11/dist-packages (from pyswarms) (4.67.1)\n",
            "Requirement already satisfied: future in /usr/local/lib/python3.11/dist-packages (from pyswarms) (1.0.0)\n",
            "Requirement already satisfied: pyyaml in /usr/local/lib/python3.11/dist-packages (from pyswarms) (6.0.2)\n",
            "Requirement already satisfied: contourpy>=1.0.1 in /usr/local/lib/python3.11/dist-packages (from matplotlib>=1.3.1->pyswarms) (1.3.1)\n",
            "Requirement already satisfied: cycler>=0.10 in /usr/local/lib/python3.11/dist-packages (from matplotlib>=1.3.1->pyswarms) (0.12.1)\n",
            "Requirement already satisfied: fonttools>=4.22.0 in /usr/local/lib/python3.11/dist-packages (from matplotlib>=1.3.1->pyswarms) (4.56.0)\n",
            "Requirement already satisfied: kiwisolver>=1.3.1 in /usr/local/lib/python3.11/dist-packages (from matplotlib>=1.3.1->pyswarms) (1.4.8)\n",
            "Requirement already satisfied: packaging>=20.0 in /usr/local/lib/python3.11/dist-packages (from matplotlib>=1.3.1->pyswarms) (24.2)\n",
            "Requirement already satisfied: pillow>=8 in /usr/local/lib/python3.11/dist-packages (from matplotlib>=1.3.1->pyswarms) (11.1.0)\n",
            "Requirement already satisfied: pyparsing>=2.3.1 in /usr/local/lib/python3.11/dist-packages (from matplotlib>=1.3.1->pyswarms) (3.2.3)\n",
            "Requirement already satisfied: python-dateutil>=2.7 in /usr/local/lib/python3.11/dist-packages (from matplotlib>=1.3.1->pyswarms) (2.8.2)\n",
            "Requirement already satisfied: six>=1.5 in /usr/local/lib/python3.11/dist-packages (from python-dateutil>=2.7->matplotlib>=1.3.1->pyswarms) (1.17.0)\n",
            "Downloading pyswarms-1.3.0-py2.py3-none-any.whl (104 kB)\n",
            "\u001b[2K   \u001b[90m━━━━━━━━━━━━━━━━━━━━━━━━━━━━━━━━━━━━━━━━\u001b[0m \u001b[32m104.1/104.1 kB\u001b[0m \u001b[31m7.6 MB/s\u001b[0m eta \u001b[36m0:00:00\u001b[0m\n",
            "\u001b[?25hInstalling collected packages: pyswarms\n",
            "Successfully installed pyswarms-1.3.0\n"
          ]
        }
      ],
      "source": [
        "#!pip install pyswarms\n",
        "import numpy as np\n",
        "import pyswarms as ps"
      ]
    },
    {
      "cell_type": "code",
      "source": [
        "def labor_cost(x):\n",
        "    x = np.array(x).reshape(-1, len(full_time_rates) * 2 + len(part_time_rates)) # Reshape to include full-time, overtime, and part-time\n",
        "\n",
        "    full_time_hours = x[:, :len(full_time_rates)]  # Regular hours for full-time staff\n",
        "    overtime_hours = x[:, len(full_time_rates):2*len(full_time_rates)]  # Overtime hours\n",
        "    part_time_hours = x[:, 2*len(full_time_rates):]  # Part-time hours\n",
        "\n",
        "    cost = np.sum(full_time_hours * full_time_rates, axis=1) + \\\n",
        "           np.sum(overtime_hours * overtime_rates, axis=1) + \\\n",
        "           np.sum(part_time_hours * part_time_rates, axis=1)\n",
        "\n",
        "    penalty = np.maximum(0, 4 - (np.sum(full_time_hours, axis=1) + np.sum(overtime_hours, axis=1))) * 1000\n",
        "    penalty += np.maximum(0, 2 - np.sum(part_time_hours, axis=1)) * 1000\n",
        "\n",
        "    return cost + penalty\n"
      ],
      "metadata": {
        "id": "CAD0u9II3egN"
      },
      "execution_count": 6,
      "outputs": []
    },
    {
      "cell_type": "code",
      "source": [
        "full_time_rates = np.array([30, 35, 40, 45, 50])\n",
        "overtime_rates = 1.5 * full_time_rates\n",
        "part_time_rates = np.array([25, 27, 29, 31, 33])"
      ],
      "metadata": {
        "id": "RzbP3TUc3lr8"
      },
      "execution_count": 7,
      "outputs": []
    },
    {
      "cell_type": "code",
      "source": [
        "num_particles = 10\n",
        "dimensions = len(full_time_rates) * 2 + len(part_time_rates)  # Full-time, overtime, and part-time hours\n",
        "\n",
        "options = {'c1': 1.5, 'c2': 1.5, 'w': 0.7}\n",
        "\n",
        "bounds = (np.zeros(dimensions), np.ones(dimensions) * 8)  # Limit hours to a max of 8\n",
        "\n",
        "optimizer = ps.single.GlobalBestPSO(n_particles=num_particles, dimensions=dimensions, options=options, bounds=bounds)\n",
        "\n",
        "best_cost, best_pos = optimizer.optimize(labor_cost, iters=100)"
      ],
      "metadata": {
        "colab": {
          "base_uri": "https://localhost:8080/"
        },
        "id": "bDecvQm53tXX",
        "outputId": "4a5b857b-ed40-4ede-a479-2d502d5da3fb"
      },
      "execution_count": 8,
      "outputs": [
        {
          "output_type": "stream",
          "name": "stderr",
          "text": [
            "2025-04-05 21:34:39,306 - pyswarms.single.global_best - INFO - Optimize for 100 iters with {'c1': 1.5, 'c2': 1.5, 'w': 0.7}\n",
            "pyswarms.single.global_best: 100%|██████████|100/100, best_cost=1.4e+3\n",
            "2025-04-05 21:34:39,501 - pyswarms.single.global_best - INFO - Optimization finished | best cost: 1402.9154693046971, best pos: [1.52007316 1.80621561 3.75520245 0.65578584 2.81913645 0.08178321\n",
            " 0.31594018 3.5685861  1.54985938 0.85514568 0.90087029 7.15146365\n",
            " 4.33741481 5.53111073 1.7401819 ]\n"
          ]
        }
      ]
    },
    {
      "cell_type": "code",
      "source": [
        "print(\"Best labor cost:\", best_cost)\n",
        "print(\"Optimal workforce schedule:\", best_pos.reshape(-1, len(full_time_rates) * 2 + len(part_time_rates))) # Reshape to match full-time, overtime, and part-time\n"
      ],
      "metadata": {
        "colab": {
          "base_uri": "https://localhost:8080/"
        },
        "id": "evyXMcrc4nmS",
        "outputId": "6f316a4b-4ed9-48c5-e3b0-92703ef58870"
      },
      "execution_count": 10,
      "outputs": [
        {
          "output_type": "stream",
          "name": "stdout",
          "text": [
            "Best labor cost: 1402.9154693046971\n",
            "Optimal workforce schedule: [[1.52007316 1.80621561 3.75520245 0.65578584 2.81913645 0.08178321\n",
            "  0.31594018 3.5685861  1.54985938 0.85514568 0.90087029 7.15146365\n",
            "  4.33741481 5.53111073 1.7401819 ]]\n"
          ]
        }
      ]
    }
  ]
}